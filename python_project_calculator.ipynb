{
  "nbformat": 4,
  "nbformat_minor": 0,
  "metadata": {
    "colab": {
      "provenance": []
    },
    "kernelspec": {
      "name": "python3",
      "display_name": "Python 3"
    },
    "language_info": {
      "name": "python"
    }
  },
  "cells": [
    {
      "cell_type": "markdown",
      "source": [
        "## **Project Documentation: Python Calculator**\n",
        "\n",
        "\n",
        "* Project Overview*\n",
        "\n",
        "1. Introduction\n",
        "\n",
        "This project is a basic calculator application written in Python. It can perform simple arithmetic operations such as addition, subtraction, multiplication, and division.\n",
        "\n",
        "\n",
        "2. Objective\n",
        "The objective of this project is to create a user-friendly calculator that can handle basic arithmetic operations and provide accurate results.\n",
        "\n",
        "\n",
        "\n",
        "\n",
        "3. Features\n",
        "\n",
        "Addition\n",
        "Subtraction\n",
        "Multiplication\n",
        "Division\n",
        "\n",
        "4. Requirements\n",
        "4.1. Software Requirements\n",
        "Python 3.x\n",
        "4.2. Libraries\n",
        "No additional libraries are required beyond the standard Python library.\n",
        "\n",
        "\n",
        "5. Design\n",
        "5.1. User Interface\n",
        "The calculator will have a simple command-line interface where users can input their desired operations and numbers.\n",
        "\n",
        "6 Functions\n",
        "The main functions of the calculator will include:\n",
        "\n",
        "add(a, b): Returns the sum of a and b.\n",
        "\n",
        "subtract(a, b): Returns the difference of a and b.\n",
        "\n",
        "multiply(a, b): Returns the product of a and b.\n",
        "\n",
        "divide(a, b): Returns the quotient of a and b.\n",
        "\n",
        "\n",
        "**"
      ],
      "metadata": {
        "id": "Wb85mfAnFrx7"
      }
    },
    {
      "cell_type": "code",
      "source": [
        "# addition\n",
        "def addition(n1,n2):\n",
        "  return n1+n2\n",
        "\n",
        "def subtraction(n1,n2):\n",
        "  return n1-n2\n",
        "\n",
        "def multiplication(n1,n2):\n",
        "  return n1*n2\n",
        "\n",
        "def division(n1,n2):\n",
        "  if n2 == 0:\n",
        "    return \"Cannot divide by zero\"\n",
        "\n",
        "  return n1/n2\n",
        "def calculator(n1,operation,n2):\n",
        "  if operation=='+':\n",
        "    return addition(n1,n2)\n",
        "\n",
        "  if operation=='−':\n",
        "    return subtraction(n1,n2)\n",
        "\n",
        "  if operation=='*':\n",
        "    return multiplication(n1,n2)\n",
        "\n",
        "  if operation=='÷':\n",
        "    return division(n1,n2)\n",
        "\n",
        "calculator(5,'+',5)"
      ],
      "metadata": {
        "colab": {
          "base_uri": "https://localhost:8080/"
        },
        "id": "PtlQ3b3fser7",
        "outputId": "891e62fe-acf9-4330-ad5e-2a3c562fdf29"
      },
      "execution_count": 14,
      "outputs": [
        {
          "output_type": "execute_result",
          "data": {
            "text/plain": [
              "10"
            ]
          },
          "metadata": {},
          "execution_count": 14
        }
      ]
    },
    {
      "cell_type": "code",
      "source": [
        "def addition(n1,n2):\n",
        "  return n1+n2\n",
        "def subtraction(n1,n2):\n",
        "  return n1-n2\n",
        "def multiplication(n1,n2):\n",
        "  return n1*n2\n",
        "def division(n1,n2):\n",
        "  if n2 == 0:\n",
        "    return \"Cannot divide by zero\"\n",
        "  return n1/n2\n",
        "operators={\n",
        "    '+':addition,\n",
        "    '-':subtraction,\n",
        "    '*':multiplication,\n",
        "    '/':division\n",
        "}\n",
        "n1=int(input('enter first number'))\n",
        "for operator in operators:\n",
        "  print(operator)\n",
        "operation=input('enter operator required')\n",
        "n2=int(input('enter second number'))\n",
        "result=operators[operation](n1,n2)\n",
        "print(f'the result of {n1} {operation} {n2} is {result}')\n",
        "\n"
      ],
      "metadata": {
        "colab": {
          "base_uri": "https://localhost:8080/"
        },
        "id": "3YWs_RTTpwck",
        "outputId": "3abfe645-6d4a-490c-c131-441fb20823b9"
      },
      "execution_count": 10,
      "outputs": [
        {
          "output_type": "stream",
          "name": "stdout",
          "text": [
            "enter first number9\n",
            "+\n",
            "-\n",
            "*\n",
            "/\n",
            "enter operator required+\n",
            "enter second number1\n",
            "the result of 9 + 1 is 10\n"
          ]
        }
      ]
    },
    {
      "cell_type": "markdown",
      "source": [
        "Conclusion\n",
        "\n",
        "This documentation covers the basic implementation and usage of a simple calculator in Python. The project can be expanded with more features such as support for advanced mathematical functions, a graphical user interface, or persistent history of calculations.\n",
        "\n",
        " Appendix\n",
        "1. References\n",
        "Python Official Documentation: https://docs.python.org/3/"
      ],
      "metadata": {
        "id": "C1T_sW0wGAhp"
      }
    }
  ]
}